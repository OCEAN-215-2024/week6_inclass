{
 "cells": [
  {
   "cell_type": "code",
   "execution_count": null,
   "metadata": {
    "tags": []
   },
   "outputs": [],
   "source": [
    "%%capture\n",
    "# Install the autograder to check your answers as you go along\n",
    "import sys\n",
    "!{sys.executable} -m pip install otter-grader\n",
    "# Initialize Otter \n",
    "import otter\n",
    "grader = otter.Notebook(\"group_activity5.ipynb\")"
   ]
  },
  {
   "cell_type": "markdown",
   "metadata": {
    "id": "KqdcwV6RdW9t"
   },
   "source": [
    "# In-class coding exercise #5\n",
    "Objective: Practice using Pandas and the basics of Xarray\n",
    "\n",
    "## Introduction to group coding exercises\n",
    "Today you’ll work on this exercise in the same groups of 3-4 you were assigned last week, submitting a single notebook file at the end of the class period. Decide amongst yourselves which member will upload the completed notebook to Gradescope this week. Make sure that everyone takes a turn being the “Uploader”. _You cannot upload the final code two weeks in a row._\n",
    "\n",
    "Designate a different group member to be the \"Reporter\". The Reporter will be in charge of participating in the group discussion at the end of the class session.\n",
    "\n",
    "### Workflow\n",
    "Each question will be timed to ensure that everyone gets to work on at least a part of every question. Group activities are not graded by completeness or correctness, but by effort. We will be breaking down each question in the following order:  \n",
    "1. Independent work \n",
    "2. Group work and discussion on coding question\n",
    "3. Group work and discussion on reflection questions\n",
    "\n",
    "You are welcome and encouraged to communicate with other groups and the teaching team when you feel stuck on a problem. \n",
    "\n",
    "As a reminder, we will be grading based best practices in coding. These include: \n",
    "1) Variables are used to store objects\n",
    "\n",
    "2) Code is commented adequately\n",
    "\n",
    "3) Variables are names appropriately\n",
    "\n",
    "4) Code is efficient with minimal unnecessary lines \n",
    "\n",
    "5) Documenting help from outside sources, such as from other groups or online documentation. \n",
    "\n",
    "6) Final notebook fully runs from start to finish. A good way to check this is restarting the kernel and fully running through all the cells to check for any errors.\n",
    "\n",
    "### Storing your answers\n",
    "In the code cells where you will write your answers, there will be comments denoting:\n",
    "\n",
    "\"**# your code**\"\n",
    "\n",
    "and \n",
    "\n",
    "\"**# answer variables**\"\n",
    "\n",
    "You may store any intermediary variables in the **your code** section. If you do not have any intermediary, you can also store your answer directly in the answer variables.\n",
    "\n",
    "### Required Plot Elements for Figures\n",
    "This assignments requires you to create and design figures using `matplotlib`. To practice good plotting practices, each figure will require the following to receive full points:\n",
    "1) Concise, descriptive title for each figure/subplot\n",
    "2) Axis labels with units (when possible)\n",
    "3) Appropriate axis limits (minimum and maximum)\n",
    "4) Appropriate tick resolution\n",
    "5) Legend when using different datasets \n",
    "6) Appropriate font size (a good range is 12-15)"
   ]
  },
  {
   "cell_type": "markdown",
   "metadata": {
    "id": "LQpT2M0HdmUF"
   },
   "source": [
    "## Note here **and in the Gradescope submission** each of your group members:\n",
    "1.\n",
    "2. \n",
    "3."
   ]
  },
  {
   "cell_type": "markdown",
   "metadata": {
    "deletable": false,
    "editable": false,
    "id": "75Fru6pykhxR"
   },
   "source": [
    "# Q1: Practice with `pandas`: Ballard Locks salmon counts (50 minutes)"
   ]
  },
  {
   "cell_type": "markdown",
   "metadata": {
    "deletable": false,
    "editable": false,
    "id": "arXwiCsM6wL1"
   },
   "source": [
    "## Part 1:\n",
    "### <font color='red'><i>~10-15 minutes</i></font>\n",
    "Here are some local salmon data we can load and visualize using pandas! Let's first get an overview of the data by practicing some dataframe functions.\n",
    "\n",
    "We will load this data from the URL listed below in the starter code cell, stored in the `filepath` string. Instead of downloading the data itself into the Jupyter environment, we will practice pulling data into our environment without saving it to the server (disk). \n",
    "\n",
    "### Instructions\n",
    "1. Load the salmon data URL into Pandas using the pandas `read_csv()` function and store it into the `salmon_df` variable. Follow the steps below to set some positional arguments in the read_csv() function while loading the file:\n",
    "> * Specify that the first (0th) column (the dates) should be the index.\n",
    ">\n",
    "> * Also specify that Pandas should parse the index as dates (datetimes).\n",
    ">\n",
    "> * Consult the documentation for [`pd.read_csv()`](https://pandas.pydata.org/pandas-docs/stable/reference/api/pandas.read_csv.html) to find the arguments to specify these two things.\n",
    "2. Display the data.\n",
    "3. Use `.describe()` to view the summary statistics.\n",
    "4. Answer the following questions with your group in a comment or a markdown cell below your code:\n",
    "\n",
    "* How many salmon species are counted?\n",
    "* When does this data start and end?\n",
    "* What are the mean daily counts for each species?\n",
    "* What are the maximum daily counts for each species?"
   ]
  },
  {
   "cell_type": "code",
   "execution_count": null,
   "metadata": {
    "deletable": false,
    "editable": false,
    "id": "azv1gWhtWBUD",
    "tags": []
   },
   "outputs": [],
   "source": [
    "# starter code cell, DO NOT CHANGE THIS CODE!\n",
    "filepath = 'https://raw.githubusercontent.com/OCEAN-215-CLASS/week6_inclass_data/main/ballard_salmon_counts.csv'"
   ]
  },
  {
   "cell_type": "markdown",
   "metadata": {},
   "source": [
    "_Type your answer here, replacing this text._"
   ]
  },
  {
   "cell_type": "code",
   "execution_count": null,
   "metadata": {
    "tags": []
   },
   "outputs": [],
   "source": [
    "# what packages do you need to import?\n",
    "\n",
    "# your code\n",
    "\n",
    "# print/display statements"
   ]
  },
  {
   "cell_type": "code",
   "execution_count": null,
   "metadata": {
    "deletable": false,
    "editable": false
   },
   "outputs": [],
   "source": [
    "grader.check(\"Question 1, Part 1\")"
   ]
  },
  {
   "cell_type": "markdown",
   "metadata": {
    "deletable": false,
    "editable": false,
    "id": "M_QJKrnm8uaH"
   },
   "source": [
    "<!-- BEGIN QUESTION -->\n",
    "\n",
    "## Part 2: **Plot the data!** \n",
    "### <font color='red'><i>~15-20 minutes</i></font>\n",
    "\n",
    "### Instructions\n",
    "1. Create a single blank figure using `matplotlib.pyplot subplots()` or `figure()`.  Set the `figsize` argument so it will take up the entire width of the page. \n",
    "2. Use either `plt.plot()` or `ax.plot()` (depending on how you created your blank figure in Part 1) to make line plots of each of the three species' counts over time. In other words, the x-values should be datetimes from the index and the y-values should be daily salmon counts for each species. Your plot should have 3 different lines.\n",
    "3. Make each species the following colors for each line on your plot:\n",
    "> * Chinook: 'forestgreen'\n",
    ">\n",
    "> * Coho: 'darkcyan'\n",
    ">\n",
    "> * Sockeye: 'salmon'\n",
    ">\n",
    "\n",
    "\n",
    "4. Label your plot axes and add a title.\n",
    "5. Add a grid to your plot.\n",
    "6. Add a legend.\n",
    "7. Double check that your plot contains all the required elements as listed in the Assignment Instructions above."
   ]
  },
  {
   "cell_type": "code",
   "execution_count": null,
   "metadata": {
    "id": "KROWGW8dWCsd",
    "tags": []
   },
   "outputs": [],
   "source": [
    "# create your figure \n",
    "..."
   ]
  },
  {
   "cell_type": "markdown",
   "metadata": {
    "deletable": false,
    "editable": false,
    "id": "2qGdvYufAY__"
   },
   "source": [
    "<!-- END QUESTION -->\n",
    "\n",
    "### Part 3: **Index into the data to discover information** (2 points)\n",
    "### <font color='red'><i>~15-20 minutes</i></font>\n",
    "\n",
    "1. Use indexing to find out how many coho salmon passed through Ballard Locks on September 30, 2020, the day that Autumn Quarter started at UW in year 2020. Store this number in the `coho_count` variable without hardcoding. \n",
    "> _Hint:_ you'll need `.loc[]` and a conditional to do this\n",
    "2. Use indexing with slicing (`:`) to get the sockeye salmon counts for all dates in the years specified below. Make sure to print the results to check that they're correct.\n",
    "> * First, do this for 2020. Save the result as a new variable, `sockeye_2020`.\n",
    ">\n",
    "> * Then, do the same for 2013. Save this as `sockeye_2013`.\n",
    ">\n",
    "\n",
    "3. Apply `NumPy` functions to `sockeye_2020` and `sockeye_2013` to find the following and store in their corresponding answer variables:\n",
    "> * The maximum daily sockeye count in each year (2013 and 2020).\n",
    ">\n",
    "> * The total number of sockeye that passed through Ballard Locks in each year.\n",
    ">\n",
    "\n",
    "\n",
    "**OPTIONAL (only complete if you have extra time)**\n",
    "\n",
    "4. Do Steps 2-3 again, with a single line of code for each year and `numpy` function— in other words, without saving the sliced Pandas objects as intermediary variables. This will result in 1 line of code to slice and apply the function for each year and function.\n",
    "> * Print your outputs. They should match your answer variables in Part 3 if correct."
   ]
  },
  {
   "cell_type": "code",
   "execution_count": null,
   "metadata": {
    "tags": []
   },
   "outputs": [],
   "source": [
    "# Solution cell for Part 3\n",
    "# which packages do you need to import? \n",
    "\n",
    "# your code\n",
    "\n",
    "# answer variables\n",
    "coho_count = \"\"\n",
    "sockeye_2020 = \"\"\n",
    "sockeye_2013 = \"\"\n",
    "max_2020 = \"\"\n",
    "max_2013 = \"\"\n",
    "total_2020 = \"\"\n",
    "total_2013 = \"\"\n",
    "\n",
    "# code for optional code if you have time\n"
   ]
  },
  {
   "cell_type": "code",
   "execution_count": null,
   "metadata": {
    "deletable": false,
    "editable": false
   },
   "outputs": [],
   "source": [
    "grader.check(\"Question 1, Part 3\")"
   ]
  },
  {
   "cell_type": "markdown",
   "metadata": {
    "deletable": false,
    "editable": false,
    "id": "9942aIgsl_nh"
   },
   "source": [
    "<!-- BEGIN QUESTION -->\n",
    "\n",
    "# Reflection questions (5 minutes)\n",
    "The purpose of the reflection is to inform us as instructors about students comfort level with course content. We use these answers to inform how we spend class time and design coursework in subsequent weeks. This question is graded for completeness, so please answer each question in the text box below. Be concise in your answers (max. 2 sentences). \n",
    "\n",
    "1) What do you feel you excelled at in this exercise? Why?\n",
    "\n",
    "2) What did you struggle with most in the exercise? Why?\n",
    "\n",
    "3) Is there any section of the question that you did not complete? If so, briefly describe why and the section you spent the most time on. \n",
    "\n",
    "4) Is there any topic you feel we need to revisit or review in class? Why?"
   ]
  },
  {
   "cell_type": "markdown",
   "metadata": {},
   "source": [
    "_Type your answer here, replacing this text._"
   ]
  },
  {
   "cell_type": "markdown",
   "metadata": {
    "deletable": false,
    "editable": false,
    "id": "8d6J9xZiFtU2"
   },
   "source": [
    "<!-- END QUESTION -->\n",
    "\n",
    "<!-- BEGIN QUESTION -->\n",
    "\n",
    "# Question 2: Practice reading files with `xarray`: World Ocean Atlas global ocean temperatures\n",
    "### <font color='red'><i>Max time for all Q2 parts: 30 minutes</i></font>"
   ]
  },
  {
   "cell_type": "markdown",
   "metadata": {
    "deletable": false,
    "editable": false,
    "id": "mgowxnn4Jr0-"
   },
   "source": [
    "1. Load the WOA18 netCDF URL into xarray using `xr.open_dataset()` using the url string in the cell below. Set the named argument for \"decode_times=False\". This will keep the dates as a string instead of converting them to datetimes. \n",
    "2. Display the data.\n",
    "3. Using just the interactive display, answer the following questions with your group:\n",
    "\n",
    "> 1. How many data variables are there?\n",
    "> 2. The variable abbreviations aren't very informative. Using the page icon, find out what at least 3 variables represent and list them.\n",
    "> 3. What is the time range of the data?\n",
    "> 4. What is the latitude and longitude resolution (spacing) of the data? Note that we call this the \"grid spacing\" or \"resolution\" of the data.\n",
    "\n",
    "**Optional if you have time**: <br>\n",
    "Subset your xarray dataset values using xarray or numpy functions to answer the following extra credit questions. Type your answers in the markdown cell below Part 3. Answer the questions in each part in comments below or above your code in the solution cell.\n",
    "> 5. What are the dimensions of the dataset? Type this in a new variable to store and print it. Take a look at your coordinates, specifically depth. Use a `numpy` function to calculate the deepest measurement of depth. \n",
    "> 6. Let's take a look at how much sampling was done at the equator. Subset your dataset's \"lat\" coordinates to 0. Do you see any measurements? \n",
    "- If not, try experimenting with the \"method\" argument to see if you can see other measurements nearby. How many measurements do you see now?\n",
    "- What is the range of values for lat (latitude) you see shown when you use \"method\"?\n",
    "\n",
    "> 7. Create a plot of temperature at the equator using the `plot()` function on your subsetted equatorial dataset. Don't forget to reverse the y-axis for depth!\n",
    "> 8. How does temperature vary at different latitudes? Now, try subsetting a dataset to -60 with the \"lat\" coordinates. Plot your figure and compare it against your equatorial plot."
   ]
  },
  {
   "cell_type": "code",
   "execution_count": null,
   "metadata": {
    "deletable": false,
    "editable": false,
    "tags": []
   },
   "outputs": [],
   "source": [
    "# Starter code cell, DO NOT CHANGE!\n",
    "url=\"https://www.ncei.noaa.gov/thredds-ocean/dodsC/ncei/woa/temperature/decav/1.00/woa18_decav_t00_01.nc\""
   ]
  },
  {
   "cell_type": "markdown",
   "metadata": {},
   "source": [
    "_Type your answer here, replacing this text._"
   ]
  },
  {
   "cell_type": "code",
   "execution_count": null,
   "metadata": {
    "tags": []
   },
   "outputs": [],
   "source": [
    "# what packages do you need to import\n",
    "\n",
    "# your code\n",
    "\n",
    "# display your dataframe\n"
   ]
  },
  {
   "cell_type": "code",
   "execution_count": null,
   "metadata": {
    "tags": []
   },
   "outputs": [],
   "source": [
    "## OPTIONAL SECTION \n",
    "# your code\n",
    "\n",
    "# your plots \n",
    "\n",
    "..."
   ]
  },
  {
   "cell_type": "markdown",
   "metadata": {
    "deletable": false,
    "editable": false,
    "id": "9942aIgsl_nh"
   },
   "source": [
    "<!-- END QUESTION -->\n",
    "\n",
    "<!-- BEGIN QUESTION -->\n",
    "\n",
    "# Reflection questions (5 minutes)\n",
    "The purpose of the reflection is to inform us as instructors about students comfort level with course content. We use these answers to inform how we spend class time and design coursework in subsequent weeks. This question is graded for completeness, so please answer each question in the text box below. Be concise in your answers (max. 2 sentences). \n",
    "\n",
    "1) What do you feel you excelled at in this exercise? Why?\n",
    "\n",
    "2) What did you struggle with most in the exercise? Why?\n",
    "\n",
    "3) Is there any section of the question that you did not complete? If so, briefly describe why and the section you spent the most time on. \n",
    "\n",
    "4) Is there any topic you feel we need to revisit or review in class? Why?"
   ]
  },
  {
   "cell_type": "markdown",
   "metadata": {},
   "source": [
    "_Type your answer here, replacing this text._"
   ]
  },
  {
   "cell_type": "markdown",
   "metadata": {
    "deletable": false,
    "editable": false
   },
   "source": [
    "<!-- END QUESTION -->\n",
    "\n"
   ]
  }
 ],
 "metadata": {
  "colab": {
   "provenance": [
    {
     "file_id": "17Vgryj4ZiprQ93dGV6lYANwXoBTMhnE2",
     "timestamp": 1667505149985
    }
   ]
  },
  "kernelspec": {
   "display_name": "Python 3 (ipykernel)",
   "language": "python",
   "name": "python3"
  },
  "language_info": {
   "codemirror_mode": {
    "name": "ipython",
    "version": 3
   },
   "file_extension": ".py",
   "mimetype": "text/x-python",
   "name": "python",
   "nbconvert_exporter": "python",
   "pygments_lexer": "ipython3",
   "version": "3.10.10"
  },
  "otter": {
   "OK_FORMAT": true,
   "tests": {
    "Question 1, Part 1": {
     "name": "Question 1, Part 1",
     "points": 0,
     "suites": [
      {
       "cases": [
        {
         "code": ">>> # test if columns and indices are correct\n>>> (list(salmon_df.columns) == ['Chinook', 'Coho', 'Sockeye']) and (salmon_df.index.dtype == '<M8[ns]')\nTrue",
         "failure_message": "Check your salmon_df columns or indices!",
         "hidden": false,
         "locked": false,
         "points": 0
        },
        {
         "code": ">>> # test if shape of salmon_df is correct (are all the data there?)\n>>> salmon_df.shape == (419, 3)\nTrue",
         "failure_message": "Check your salmon_df shape!",
         "hidden": false,
         "locked": false,
         "points": 0
        }
       ],
       "scored": true,
       "setup": "",
       "teardown": "",
       "type": "doctest"
      }
     ]
    },
    "Question 1, Part 3": {
     "name": "Question 1, Part 3",
     "points": 0,
     "suites": [
      {
       "cases": [
        {
         "code": ">>> # test if columns and indices are correct\n>>> len(sockeye_2020.loc[sockeye_2020.notnull()]) == 64\nTrue",
         "failure_message": "Check your sockeye_2020 variable!",
         "hidden": false,
         "locked": false,
         "points": 0
        },
        {
         "code": ">>> # test if columns and indices are correct\n>>> len(sockeye_2013.loc[sockeye_2013.notnull()]) == 56\nTrue",
         "failure_message": "Check your sockeye_2013 variable!",
         "hidden": false,
         "locked": false,
         "points": 0
        },
        {
         "code": ">>> # test if columns and indices are correct\n>>> int(max_2020) == 1961\nTrue",
         "failure_message": "Check your sockeye_2020 variable!",
         "hidden": false,
         "locked": false,
         "points": 0
        },
        {
         "code": ">>> # test if columns and indices are correct\n>>> int(max_2013) == 12936\nTrue",
         "failure_message": "Check your max_2013 variable!",
         "hidden": false,
         "locked": false,
         "points": 0
        },
        {
         "code": ">>> # test if columns and indices are correct\n>>> int(total_2020) == 22954\nTrue",
         "failure_message": "Check your sum_2020 variable!",
         "hidden": false,
         "locked": false,
         "points": 0
        },
        {
         "code": ">>> # test if columns and indices are correct\n>>> int(total_2013) == 178422\nTrue",
         "failure_message": "Check your sum_2013 variable!",
         "hidden": false,
         "locked": false,
         "points": 0
        }
       ],
       "scored": true,
       "setup": "",
       "teardown": "",
       "type": "doctest"
      }
     ]
    }
   }
  }
 },
 "nbformat": 4,
 "nbformat_minor": 4
}
